{
 "cells": [
  {
   "cell_type": "markdown",
   "id": "4cb487de-d30b-4ad8-8a60-da5d2d8533ea",
   "metadata": {},
   "source": [
    "Resolution of Boltzmann equation by Monte-Carlo method\n",
    "=====================================\n",
    "\n",
    "This file serves as the project report. An explanation on the use of Markdown can be found here: [Framasite | Markdown](https://docs.framasoft.org/fr/grav/markdown.html#)."
   ]
  }
 ],
 "metadata": {
  "kernelspec": {
   "display_name": "Python 3 (ipykernel)",
   "language": "python",
   "name": "python3"
  },
  "language_info": {
   "codemirror_mode": {
    "name": "ipython",
    "version": 3
   },
   "file_extension": ".py",
   "mimetype": "text/x-python",
   "name": "python",
   "nbconvert_exporter": "python",
   "pygments_lexer": "ipython3",
   "version": "3.11.6"
  }
 },
 "nbformat": 4,
 "nbformat_minor": 5
}
